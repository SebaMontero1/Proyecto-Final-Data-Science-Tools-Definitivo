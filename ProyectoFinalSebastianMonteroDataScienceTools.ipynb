{
  "metadata": {
    "kernelspec": {
      "name": "python",
      "display_name": "Python (Pyodide)",
      "language": "python"
    },
    "language_info": {
      "codemirror_mode": {
        "name": "python",
        "version": 3
      },
      "file_extension": ".py",
      "mimetype": "text/x-python",
      "name": "python",
      "nbconvert_exporter": "python",
      "pygments_lexer": "ipython3",
      "version": "3.8"
    }
  },
  "nbformat_minor": 4,
  "nbformat": 4,
  "cells": [
    {
      "cell_type": "markdown",
      "source": "# Final Project: Data Science Tools and Applications",
      "metadata": {}
    },
    {
      "cell_type": "markdown",
      "source": "## Introduction\nThis notebook is part of the final project for the Data Science course. It aims to summarize the tools and concepts learned during the course, including coding in Python, understanding data science tools, and applying mathematical and statistical methods.",
      "metadata": {}
    },
    {
      "cell_type": "markdown",
      "source": "## Data Science Languages\nThe most common programming languages used in data science are:\n1. Python\n2. R\n3. SQL\n4. Julia\n5. Scala",
      "metadata": {}
    },
    {
      "cell_type": "markdown",
      "source": "## Data Science Libraries\nThere are many libraries used in data science to manipulate data, perform analysis, and create visualizations. Some of the most popular ones are:\n- Pandas\n- NumPy\n- Matplotlib\n- Seaborn\n- Scikit-Learn\n- TensorFlow\n- Keras",
      "metadata": {}
    },
    {
      "cell_type": "markdown",
      "source": "## Data Science Tools\n\n| Tool                | Description                          |\n|---------------------|--------------------------------------|\n| Jupyter Notebook    | Interactive environment for coding   |\n| RStudio             | IDE for R programming                |\n| Apache Hadoop       | Framework for distributed storage    |\n| Power BI            | Data visualization tool              |",
      "metadata": {}
    },
    {
      "cell_type": "markdown",
      "source": "## Arithmetic Expression Examples\nArithmetic expressions allow us to perform basic operations. Examples include:\n- `5 + 3`: Addition\n- `10 - 2`: Subtraction\n- `4 * 7`: Multiplication\n- `20 / 4`: Division",
      "metadata": {}
    },
    {
      "cell_type": "code",
      "source": "# Multiplying and adding numbers\nmultiplication_result = 5 * 4\naddition_result = multiplication_result + 10\n\n# Display the results\nprint(\"The result of the multiplication is:\", multiplication_result)\nprint(\"The result of the addition is:\", addition_result)",
      "metadata": {
        "trusted": true
      },
      "outputs": [
        {
          "name": "stdout",
          "text": "The result of the multiplication is: 20\nThe result of the addition is: 30\n",
          "output_type": "stream"
        }
      ],
      "execution_count": 2
    },
    {
      "cell_type": "code",
      "source": "# Convert minutes to hours\nminutes = 200\nhours = minutes / 60\n\n# Display the result\nprint(f\"{minutes} minutes is equal to {hours:.2f} hours\")",
      "metadata": {
        "trusted": true
      },
      "outputs": [
        {
          "name": "stdout",
          "text": "200 minutes is equal to 3.33 hours\n",
          "output_type": "stream"
        }
      ],
      "execution_count": 3
    },
    {
      "cell_type": "markdown",
      "source": "## Objectives\n- Understand the tools used in data science.\n- Learn to use popular Python libraries.\n- Perform data analysis and create visualizations.\n- Share insights using GitHub.",
      "metadata": {}
    },
    {
      "cell_type": "markdown",
      "source": "## Author Name: Sebastián Montero",
      "metadata": {}
    }
  ]
}